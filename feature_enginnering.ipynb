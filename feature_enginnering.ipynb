{
  "nbformat": 4,
  "nbformat_minor": 0,
  "metadata": {
    "colab": {
      "provenance": []
    },
    "kernelspec": {
      "name": "python3",
      "display_name": "Python 3"
    },
    "language_info": {
      "name": "python"
    }
  },
  "cells": [
    {
      "cell_type": "markdown",
      "source": [
        "1. A parameter is a value the model learns from the data, like weights in regression, to make predictions.\n",
        "\n",
        "2. Correlation measures the relationship between two variables—how one changes in response to the other.\n",
        "\n",
        "3. Negative correlation means when one variable increases, the other decreases.\n",
        "\n",
        "4. Machine Learning is a process where systems learn patterns from data. Main components include data, model, algorithm, and loss function.\n",
        "\n",
        "5. Loss value shows how far off predictions are from actual results. Lower loss means a better model.\n",
        "\n",
        "6. Continuous variables are numeric and infinite (e.g., age), while categorical variables are distinct groups (e.g., gender).\n",
        "\n",
        "7. Categorical variables are handled using techniques like label encoding and one-hot encoding.\n",
        "\n",
        "8. Training uses data to learn patterns; testing checks model performance on unseen data.\n",
        "\n",
        "9. `sklearn.preprocessing` is a module for data scaling, encoding, and transformation.\n",
        "\n",
        "10. A test set is a part of data used only to evaluate model performance after training.\n",
        "\n",
        "11. Data is split using `train_test_split()` from `sklearn.model_selection`.\n",
        "\n",
        "12. A typical ML approach: understand problem → collect data → clean data → EDA → feature engineering → train → test → evaluate.\n",
        "\n",
        "13. EDA helps understand data, spot trends, and detect issues before modeling.\n",
        "\n",
        "14. Correlation is the degree to which two variables move together.\n",
        "\n",
        "15. Negative correlation means one variable increases as the other decreases.\n",
        "\n",
        "16. Use `df.corr()` in pandas or `sns.heatmap()` from seaborn to visualize correlation.\n",
        "\n",
        "17. Causation means one variable directly affects another. Correlation doesn’t imply causation. Example: Ice cream sales and drowning are correlated, but both are caused by summer (not each other).\n",
        "\n",
        "18. An optimizer adjusts model parameters to minimize loss. Examples:\n",
        "\n",
        "    * SGD: updates with each sample.\n",
        "    * Adam: adapts learning rate.\n",
        "    * RMSProp: works well with noisy data.\n",
        "\n",
        "19. `sklearn.linear_model` includes algorithms like Linear and Logistic Regression.\n",
        "\n",
        "20. `model.fit(X, y)` trains the model on data `X` and labels `y`.\n",
        "\n",
        "21. `model.predict(X)` uses the trained model to make predictions on new data `X`.\n",
        "\n",
        "22. Continuous variables are numeric (e.g., height); categorical are labels (e.g., city).\n",
        "\n",
        "23. Feature scaling standardizes data ranges for better model performance.\n",
        "\n",
        "24. Scaling is done using `StandardScaler` or `MinMaxScaler` from `sklearn.preprocessing`.\n",
        "\n",
        "25. `sklearn.preprocessing` includes tools for scaling, encoding, and transforming data.\n",
        "\n",
        "26. Use `train_test_split(X, y, test_size=0.2)` to divide data into training and testing sets.\n",
        "\n",
        "27. Data encoding converts categorical variables into numeric form using label or one-hot encoding.\n"
      ],
      "metadata": {
        "id": "fqonMGcRXSHO"
      }
    },
    {
      "cell_type": "code",
      "execution_count": null,
      "metadata": {
        "id": "Ib5mtSHVXRBt"
      },
      "outputs": [],
      "source": []
    }
  ]
}